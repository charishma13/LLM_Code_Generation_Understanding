{
 "cells": [
  {
   "cell_type": "code",
   "execution_count": 19,
   "id": "7e1ea9de",
   "metadata": {},
   "outputs": [
    {
     "data": {
      "text/plain": [
       "'\\nliterature\\nUse SPC/E for water parameters, use TraPPE-Zeo for SiZ and OZ parameters. \\nSi - epsilon/kb 22 charge -2q(OZ) epsilon 2.3 \\nOZ - epsilon/kb 53 charge -0.75 epsilon 3.30\\nFor the initial guess, copy SiZ parameters into AlZ (make q_AlZ = q_SiZ - 1), and \\nset HZ parameters to sigma = 1, epsilon = 100, q = +1.\\n'"
      ]
     },
     "execution_count": 19,
     "metadata": {},
     "output_type": "execute_result"
    }
   ],
   "source": [
    "atom_properties = {\n",
    "    'HW': {'type': 'HW', 'sigma': '3.165558', 'epsilon': '78.197431', 'charge': '-0.8476', 'num_particles': '1'},\n",
    "    'OW': {'type': 'OW', 'sigma': '0.0', 'epsilon': '0.0', 'charge': '0.4238', 'num_particles': '2'},\n",
    "    'SiZ': {'type': 'SiZ', 'sigma': '22.0', 'epsilon': '2.3', 'charge': '-2 + OZ', 'num_particles': '1'},\n",
    "    'OZ': {'type': 'OZ', 'sigma': '53.0', 'epsilon': '3.3', 'charge': '-0.75', 'num_particles': '1'},\n",
    "    'AlZ': {'type': 'AlZ', 'sigma': '22.0', 'epsilon': '2.3', 'charge': 'SiZ - 1', 'num_particles': '1'},\n",
    "    'HZ': {'type': 'HZ', 'sigma': '1.0', 'epsilon': '100.0', 'charge': '1', 'num_particles': '1'}\n",
    "}\n",
    "\n",
    "\"\"\"\n",
    "literature\n",
    "Use SPC/E for water parameters, use TraPPE-Zeo for SiZ and OZ parameters. \n",
    "Si - epsilon/kb 22 charge -2q(OZ) epsilon 2.3 \n",
    "OZ - epsilon/kb 53 charge -0.75 epsilon 3.30\n",
    "For the initial guess, copy SiZ parameters into AlZ (make q_AlZ = q_SiZ - 1), and \n",
    "set HZ parameters to sigma = 1, epsilon = 100, q = +1.\n",
    "\"\"\""
   ]
  },
  {
   "cell_type": "code",
   "execution_count": 96,
   "id": "77cdbea9",
   "metadata": {},
   "outputs": [],
   "source": [
    "import pandas as pd\n",
    "\n",
    "def extracting_positions(input_file):\n",
    "        # Extract the positions from the .xyz file\n",
    "    with open(input_file, \"r\") as file:\n",
    "        lines = file.readlines()\n",
    "\n",
    "    data_lines = lines[2:]\n",
    "\n",
    "    data_list = []\n",
    "    for line in data_lines:\n",
    "        stripped_line = line.strip()\n",
    "        parts = stripped_line.split()\n",
    "        if len(parts) >= 5:  \n",
    "            try:\n",
    "                x, y, z = map(float, parts[1:4])\n",
    "                atom_type = parts[0]\n",
    "                data_list.append([x, y, z, atom_type])\n",
    "            except ValueError:\n",
    "                continue  \n",
    "    # Create a DataFrame with all configurations\n",
    "    columns = [\"X\", \"Y\", \"Z\", \"Atom Type\"]\n",
    "    configuration = pd.DataFrame(data_list, columns=columns)\n",
    "\n",
    "    # Rename before last three rows\n",
    "    rename_map = {\n",
    "        \"O\": \"OZ\",  # Renaming \"O\" to \"OZ\"\n",
    "        \"Si\": \"SiZ\",  # Renaming \"Si\" to \"SiZ\"\n",
    "        \"H\": \"HZ\",   # Renaming \"H\" to \"HZ\"\n",
    "        \"Al\": \"AlZ\" # renaming \"Al\" to \"AlZ\"\n",
    "    }\n",
    "    configuration.loc[configuration.index < len(configuration) - 3, 'Atom Type'] = configuration.loc[configuration.index < len(configuration) - 3, 'Atom Type'].replace(rename_map)\n",
    "    configuration.iloc[-3:, configuration.columns.get_loc(\"Atom Type\")] = [\"HW\", \"OW\", \"HW\"]  # Rename the last 3 atom types\n",
    "\n",
    "    return configuration"
   ]
  },
  {
   "cell_type": "code",
   "execution_count": 75,
   "id": "b77d6a79",
   "metadata": {},
   "outputs": [],
   "source": [
    "# Trying for small configurations first\n",
    "file_paths = [\n",
    "    #    '../data/spce_sample_config_periodic4.txt',\n",
    "    #    '../data/spce_sample_config_periodic2.txt',\n",
    "    #    '../data/spce_sample_config_periodic3.txt',\n",
    "        'Zeolites_acid_base/configuration_2.xyz'\n",
    "    ]"
   ]
  },
  {
   "cell_type": "code",
   "execution_count": 69,
   "id": "02fbe16b",
   "metadata": {},
   "outputs": [],
   "source": [
    "import re\n",
    "import pandas as pd\n",
    "\n",
    "# Create the target dataframes\n",
    "def creating_dataframes(file_paths, atom_properties):\n",
    "    # Creating the force_field dataframe\n",
    "    force_field = pd.DataFrame.from_dict(atom_properties, orient='index')\n",
    "\n",
    "    # Create the system dataframe with initialized columns\n",
    "    system_data = []\n",
    "\n",
    "    for path in file_paths:\n",
    "        with open(path, \"r\") as file:\n",
    "            lines = file.readlines()\n",
    "\n",
    "        prefix_lines = lines[:2]\n",
    "\n",
    "        # Extract energy\n",
    "        energy_match = re.search(r'energy=([-+]?\\d*\\.\\d+|\\d+)', prefix_lines[1])\n",
    "        energy = float(energy_match.group(1)) if energy_match else None\n",
    "\n",
    "        # Extract lattice constants\n",
    "        lattice_match = re.search(r'Lattice=\"([^\"]+)\"', prefix_lines[1])\n",
    "        if lattice_match:\n",
    "            lattice_values = lattice_match.group(1).split()\n",
    "            lattice_floats = list(map(float, lattice_values))\n",
    "            box_length = lattice_floats[0]  # Assuming cubic box\n",
    "        else:\n",
    "            lattice_floats = []\n",
    "            box_length = None\n",
    "\n",
    "        # Number of particles can be parsed from the first line\n",
    "        try:\n",
    "            num_particles = int(prefix_lines[0].strip())\n",
    "        except ValueError:\n",
    "            num_particles = None\n",
    "\n",
    "        # Extracting the pbc value using regex\n",
    "        pbc_match = re.search(r'pbc=\"([^\"]+)\"', prefix_lines[1])\n",
    "\n",
    "        # Check if the match was found\n",
    "        if pbc_match:\n",
    "            pbc_value = pbc_match.group(1)\n",
    "            print(pbc_value)\n",
    "        else:\n",
    "            print(\"pbc value not found\")\n",
    "\n",
    "        # Append a row of data\n",
    "        system_data.append({\n",
    "            \"file_paths\": path,\n",
    "            \"energy\": energy,\n",
    "            \"number of particles\": num_particles,\n",
    "            \"box length\": box_length,\n",
    "            \"lattice floats\": lattice_floats,\n",
    "            \"pbc value\": pbc_value,\n",
    "            \"cutoff\": 10,\n",
    "            \"alpha\": 5.6 / box_length if box_length and box_length != 0 else 0.28,\n",
    "            \"kmax\": 5,\n",
    "            \"ε0\": 8.854187817E-12,\n",
    "            \"kB\": 1.3806488E-23\n",
    "        })\n",
    "\n",
    "    system = pd.DataFrame(system_data)\n",
    "    return system, force_field\n"
   ]
  },
  {
   "cell_type": "code",
   "execution_count": 76,
   "id": "499269d6",
   "metadata": {},
   "outputs": [
    {
     "name": "stdout",
     "output_type": "stream",
     "text": [
      "T T T\n"
     ]
    }
   ],
   "source": [
    "system, force_field = creating_dataframes(file_paths, atom_properties)"
   ]
  },
  {
   "cell_type": "code",
   "execution_count": 77,
   "id": "a931c3bf",
   "metadata": {},
   "outputs": [
    {
     "data": {
      "text/html": [
       "<div>\n",
       "<style scoped>\n",
       "    .dataframe tbody tr th:only-of-type {\n",
       "        vertical-align: middle;\n",
       "    }\n",
       "\n",
       "    .dataframe tbody tr th {\n",
       "        vertical-align: top;\n",
       "    }\n",
       "\n",
       "    .dataframe thead th {\n",
       "        text-align: right;\n",
       "    }\n",
       "</style>\n",
       "<table border=\"1\" class=\"dataframe\">\n",
       "  <thead>\n",
       "    <tr style=\"text-align: right;\">\n",
       "      <th></th>\n",
       "      <th>file_paths</th>\n",
       "      <th>energy</th>\n",
       "      <th>number of particles</th>\n",
       "      <th>box length</th>\n",
       "      <th>lattice floats</th>\n",
       "      <th>pbc value</th>\n",
       "      <th>cutoff</th>\n",
       "      <th>alpha</th>\n",
       "      <th>kmax</th>\n",
       "      <th>ε0</th>\n",
       "      <th>kB</th>\n",
       "    </tr>\n",
       "  </thead>\n",
       "  <tbody>\n",
       "    <tr>\n",
       "      <th>0</th>\n",
       "      <td>Zeolites_acid_base/configuration_2.xyz</td>\n",
       "      <td>-4563.976001</td>\n",
       "      <td>580</td>\n",
       "      <td>24.345</td>\n",
       "      <td>[24.345, 0.0, 0.0, 0.0, 24.345, 0.0, 0.0, 0.0,...</td>\n",
       "      <td>T T T</td>\n",
       "      <td>10</td>\n",
       "      <td>0.230027</td>\n",
       "      <td>5</td>\n",
       "      <td>8.854188e-12</td>\n",
       "      <td>1.380649e-23</td>\n",
       "    </tr>\n",
       "  </tbody>\n",
       "</table>\n",
       "</div>"
      ],
      "text/plain": [
       "                               file_paths       energy  number of particles  \\\n",
       "0  Zeolites_acid_base/configuration_2.xyz -4563.976001                  580   \n",
       "\n",
       "   box length                                     lattice floats pbc value  \\\n",
       "0      24.345  [24.345, 0.0, 0.0, 0.0, 24.345, 0.0, 0.0, 0.0,...     T T T   \n",
       "\n",
       "   cutoff     alpha  kmax            ε0            kB  \n",
       "0      10  0.230027     5  8.854188e-12  1.380649e-23  "
      ]
     },
     "execution_count": 77,
     "metadata": {},
     "output_type": "execute_result"
    }
   ],
   "source": [
    "system"
   ]
  },
  {
   "cell_type": "code",
   "execution_count": 78,
   "id": "bd0c5c21",
   "metadata": {},
   "outputs": [
    {
     "data": {
      "text/html": [
       "<div>\n",
       "<style scoped>\n",
       "    .dataframe tbody tr th:only-of-type {\n",
       "        vertical-align: middle;\n",
       "    }\n",
       "\n",
       "    .dataframe tbody tr th {\n",
       "        vertical-align: top;\n",
       "    }\n",
       "\n",
       "    .dataframe thead th {\n",
       "        text-align: right;\n",
       "    }\n",
       "</style>\n",
       "<table border=\"1\" class=\"dataframe\">\n",
       "  <thead>\n",
       "    <tr style=\"text-align: right;\">\n",
       "      <th></th>\n",
       "      <th>type</th>\n",
       "      <th>sigma</th>\n",
       "      <th>epsilon</th>\n",
       "      <th>charge</th>\n",
       "      <th>num_particles</th>\n",
       "    </tr>\n",
       "  </thead>\n",
       "  <tbody>\n",
       "    <tr>\n",
       "      <th>HW</th>\n",
       "      <td>HW</td>\n",
       "      <td>3.165558</td>\n",
       "      <td>78.197431</td>\n",
       "      <td>-0.8476</td>\n",
       "      <td>1</td>\n",
       "    </tr>\n",
       "    <tr>\n",
       "      <th>OW</th>\n",
       "      <td>OW</td>\n",
       "      <td>0.0</td>\n",
       "      <td>0.0</td>\n",
       "      <td>0.4238</td>\n",
       "      <td>2</td>\n",
       "    </tr>\n",
       "    <tr>\n",
       "      <th>SiZ</th>\n",
       "      <td>SiZ</td>\n",
       "      <td>22.0</td>\n",
       "      <td>2.3</td>\n",
       "      <td>-2 + OZ</td>\n",
       "      <td>1</td>\n",
       "    </tr>\n",
       "    <tr>\n",
       "      <th>OZ</th>\n",
       "      <td>OZ</td>\n",
       "      <td>53.0</td>\n",
       "      <td>3.3</td>\n",
       "      <td>-0.75</td>\n",
       "      <td>1</td>\n",
       "    </tr>\n",
       "    <tr>\n",
       "      <th>AlZ</th>\n",
       "      <td>AlZ</td>\n",
       "      <td>22.0</td>\n",
       "      <td>2.3</td>\n",
       "      <td>SiZ - 1</td>\n",
       "      <td>1</td>\n",
       "    </tr>\n",
       "    <tr>\n",
       "      <th>HZ</th>\n",
       "      <td>HZ</td>\n",
       "      <td>1.0</td>\n",
       "      <td>100.0</td>\n",
       "      <td>1</td>\n",
       "      <td>1</td>\n",
       "    </tr>\n",
       "  </tbody>\n",
       "</table>\n",
       "</div>"
      ],
      "text/plain": [
       "    type     sigma    epsilon   charge num_particles\n",
       "HW    HW  3.165558  78.197431  -0.8476             1\n",
       "OW    OW       0.0        0.0   0.4238             2\n",
       "SiZ  SiZ      22.0        2.3  -2 + OZ             1\n",
       "OZ    OZ      53.0        3.3    -0.75             1\n",
       "AlZ  AlZ      22.0        2.3  SiZ - 1             1\n",
       "HZ    HZ       1.0      100.0        1             1"
      ]
     },
     "execution_count": 78,
     "metadata": {},
     "output_type": "execute_result"
    }
   ],
   "source": [
    "force_field"
   ]
  },
  {
   "cell_type": "code",
   "execution_count": 102,
   "id": "7e26b2bd",
   "metadata": {},
   "outputs": [
    {
     "name": "stdout",
     "output_type": "stream",
     "text": [
      "             X          Y          Z Atom Type\n",
      "0    21.753056   2.588614   0.000070        OZ\n",
      "1    21.765630  14.751667  12.172291        OZ\n",
      "2     9.568266  14.776618   0.014048        OZ\n",
      "3     9.627733   2.506469  12.121849        OZ\n",
      "4     0.000676  21.753306   2.589088        OZ\n",
      "..         ...        ...        ...       ...\n",
      "575  19.140367  21.322624   1.304992       SiZ\n",
      "576  12.299560   9.520802  14.948105        HZ\n",
      "577  11.853617  12.848924  13.037539        HW\n",
      "578  11.037127  12.271565  13.037539        OW\n",
      "579  10.220636  12.848924  13.037539        HW\n",
      "\n",
      "[580 rows x 4 columns]\n"
     ]
    }
   ],
   "source": [
    "configuration = extracting_positions(file_paths[0])\n",
    "print(configuration)"
   ]
  },
  {
   "cell_type": "code",
   "execution_count": 83,
   "id": "84968f3d",
   "metadata": {},
   "outputs": [
    {
     "data": {
      "text/plain": [
       "{'ALZ', 'HW', 'HZ', 'OW', 'OZ', 'SiZ'}"
      ]
     },
     "execution_count": 83,
     "metadata": {},
     "output_type": "execute_result"
    }
   ],
   "source": [
    "set(extracting_positions(file_paths[0])['Atom Type'])"
   ]
  },
  {
   "cell_type": "code",
   "execution_count": 61,
   "id": "c510d38b",
   "metadata": {},
   "outputs": [],
   "source": [
    "results = pd.DataFrame()\n",
    "results['Number of Particles'] = system['number of particles'].astype(int)\n"
   ]
  },
  {
   "cell_type": "code",
   "execution_count": 46,
   "id": "fd9c2104",
   "metadata": {},
   "outputs": [],
   "source": [
    "def minimum_image_distance(r_ij, cell_length):\n",
    "    # Apply the minimum image convention to distances.\n",
    "    return r_ij - cell_length * np.round(r_ij / cell_length)"
   ]
  },
  {
   "cell_type": "code",
   "execution_count": 64,
   "id": "b09a7b76",
   "metadata": {},
   "outputs": [],
   "source": [
    "import numpy as np\n",
    "\n",
    "def pair_dispersion_energy(system_data, configuration, force_field):\n",
    "    \"\"\"\n",
    "    Compute the total pair dispersion energy for a system of particles.\n",
    "    \n",
    "    Parameters:\n",
    "    - system_row: A row of the system DataFrame containing simulation properties.\n",
    "    - configuration: DataFrame with atom positions and types.\n",
    "    - force_field: DataFrame with force field parameters for atom types.\n",
    "\n",
    "    Returns:\n",
    "    - total_dispersion_energy: float, the total pair dispersion energy.\n",
    "    \"\"\"\n",
    "    positions = configuration[['X', 'Y', 'Z']].values\n",
    "    atom_types = configuration['Atom Type'].values\n",
    "    cutoff = system_data['cutoff']\n",
    "    cell_length = system_data['box length']\n",
    "    num_atoms = len(positions)\n",
    "\n",
    "    total_dispersion_energy = 0.0\n",
    "\n",
    "    for i in range(num_atoms):\n",
    "        for j in range(i + 1, num_atoms):\n",
    "            r_ij = positions[i] - positions[j]\n",
    "            r_ij = minimum_image_distance(r_ij, cell_length)\n",
    "            distance = np.linalg.norm(r_ij)\n",
    "\n",
    "            if 0 < distance < cutoff:\n",
    "                type_i, type_j = atom_types[i], atom_types[j]\n",
    "\n",
    "                if type_i not in force_field.index or type_j not in force_field.index:\n",
    "                    continue\n",
    "\n",
    "                epsilon_i = force_field.loc[type_i, 'epsilon']\n",
    "                epsilon_j = force_field.loc[type_j, 'epsilon']\n",
    "                sigma_i = force_field.loc[type_i, 'sigma']\n",
    "                sigma_j = force_field.loc[type_j, 'sigma']\n",
    "\n",
    "                epsilon_ij = np.sqrt(epsilon_i * epsilon_j)\n",
    "                sigma_ij = (sigma_i + sigma_j) / 2.0\n",
    "                s_over_r = sigma_ij / distance\n",
    "\n",
    "                # Lennard-Jones potential\n",
    "                potential_energy = 4 * epsilon_ij * (s_over_r**12 - s_over_r**6)\n",
    "                total_dispersion_energy += potential_energy\n",
    "                \n",
    "    return total_dispersion_energy\n"
   ]
  },
  {
   "cell_type": "code",
   "execution_count": 65,
   "id": "7e7bfd44",
   "metadata": {},
   "outputs": [],
   "source": [
    "# Calculate pairwise energy for all system configurations\n",
    "results['dispersion_energies'] = system['file_paths'].apply(\n",
    "    lambda file_path: pair_dispersion_energy(\n",
    "        system[system['file_paths'] == file_path].iloc[0],  # Ensure single row selection\n",
    "        extracting_positions(file_path), \n",
    "        force_field\n",
    "    )\n",
    ")"
   ]
  },
  {
   "cell_type": "code",
   "execution_count": null,
   "id": "077c0216",
   "metadata": {},
   "outputs": [],
   "source": []
  },
  {
   "cell_type": "code",
   "execution_count": 66,
   "id": "55a2bd5f",
   "metadata": {},
   "outputs": [
    {
     "data": {
      "text/html": [
       "<div>\n",
       "<style scoped>\n",
       "    .dataframe tbody tr th:only-of-type {\n",
       "        vertical-align: middle;\n",
       "    }\n",
       "\n",
       "    .dataframe tbody tr th {\n",
       "        vertical-align: top;\n",
       "    }\n",
       "\n",
       "    .dataframe thead th {\n",
       "        text-align: right;\n",
       "    }\n",
       "</style>\n",
       "<table border=\"1\" class=\"dataframe\">\n",
       "  <thead>\n",
       "    <tr style=\"text-align: right;\">\n",
       "      <th></th>\n",
       "      <th>Number of Particles</th>\n",
       "      <th>dispersion_energies</th>\n",
       "    </tr>\n",
       "  </thead>\n",
       "  <tbody>\n",
       "    <tr>\n",
       "      <th>0</th>\n",
       "      <td>580</td>\n",
       "      <td>0.0</td>\n",
       "    </tr>\n",
       "  </tbody>\n",
       "</table>\n",
       "</div>"
      ],
      "text/plain": [
       "   Number of Particles  dispersion_energies\n",
       "0                  580                  0.0"
      ]
     },
     "execution_count": 66,
     "metadata": {},
     "output_type": "execute_result"
    }
   ],
   "source": [
    "results"
   ]
  },
  {
   "cell_type": "code",
   "execution_count": 84,
   "id": "22a890a2",
   "metadata": {},
   "outputs": [],
   "source": [
    "def evaluate_charge(charge_str, force_field):\n",
    "    \"\"\"Evaluate charge expression safely.\"\"\"\n",
    "    # Replace atom types with corresponding charges in the expression\n",
    "    for atom_type in force_field.index:\n",
    "        charge_value = force_field.loc[atom_type, 'charge']\n",
    "        charge_str = charge_str.replace(atom_type, str(charge_value))\n",
    "    \n",
    "    # Evaluate the final expression for charge\n",
    "    try:\n",
    "        charge_value = eval(charge_str)\n",
    "    except Exception as e:\n",
    "        print(f\"Error evaluating charge: {charge_str} -> {e}\")\n",
    "        charge_value = 0.0  # Default value in case of error\n",
    "    \n",
    "    return charge_value"
   ]
  },
  {
   "cell_type": "code",
   "execution_count": 99,
   "id": "c3c82ffa",
   "metadata": {},
   "outputs": [
    {
     "data": {
      "text/plain": [
       "{'AlZ', 'HW', 'HZ', 'OW', 'OZ', 'SiZ'}"
      ]
     },
     "execution_count": 99,
     "metadata": {},
     "output_type": "execute_result"
    }
   ],
   "source": [
    "atom_types = configuration[\"Atom Type\"].values\n",
    "set(atom_types)"
   ]
  },
  {
   "cell_type": "code",
   "execution_count": 100,
   "id": "6425efd5",
   "metadata": {},
   "outputs": [
    {
     "data": {
      "text/plain": [
       "Index(['HW', 'OW', 'SiZ', 'OZ', 'AlZ', 'HZ'], dtype='object')"
      ]
     },
     "execution_count": 100,
     "metadata": {},
     "output_type": "execute_result"
    }
   ],
   "source": [
    "force_field.index"
   ]
  },
  {
   "cell_type": "code",
   "execution_count": 101,
   "id": "3bef33b9",
   "metadata": {},
   "outputs": [],
   "source": [
    "charges = np.array([evaluate_charge(force_field.loc[t, \"charge\"], force_field) for t in atom_types])"
   ]
  },
  {
   "cell_type": "code",
   "execution_count": null,
   "id": "15bd6784",
   "metadata": {},
   "outputs": [],
   "source": []
  }
 ],
 "metadata": {
  "kernelspec": {
   "display_name": "base",
   "language": "python",
   "name": "python3"
  },
  "language_info": {
   "codemirror_mode": {
    "name": "ipython",
    "version": 3
   },
   "file_extension": ".py",
   "mimetype": "text/x-python",
   "name": "python",
   "nbconvert_exporter": "python",
   "pygments_lexer": "ipython3",
   "version": "3.11.4"
  }
 },
 "nbformat": 4,
 "nbformat_minor": 5
}
